{
 "cells": [
  {
   "cell_type": "code",
   "execution_count": 1,
   "id": "8b1d6c3c",
   "metadata": {},
   "outputs": [],
   "source": [
    "3 . View and analyse the dataset using Pandas. \n"
   ]
  },
  {
   "cell_type": "code",
   "execution_count": 1,
   "id": "bd7d0dab",
   "metadata": {},
   "outputs": [],
   "source": [
    "import numpy as np"
   ]
  },
  {
   "cell_type": "code",
   "execution_count": null,
   "id": "3d29497d",
   "metadata": {},
   "outputs": [],
   "source": [
    "import pandas as pd\n",
    "exercise = pd.read_csv('assignment.csv')\n",
    "display(exercise)"
   ]
  },
  {
   "cell_type": "code",
   "execution_count": null,
   "id": "cf186239",
   "metadata": {},
   "outputs": [],
   "source": [
    "exercise.shape"
   ]
  },
  {
   "cell_type": "code",
   "execution_count": null,
   "id": "9e215993",
   "metadata": {},
   "outputs": [],
   "source": [
    "exercise.head()"
   ]
  },
  {
   "cell_type": "code",
   "execution_count": null,
   "id": "710b1d78",
   "metadata": {},
   "outputs": [],
   "source": [
    "exercise.columns"
   ]
  },
  {
   "cell_type": "code",
   "execution_count": null,
   "id": "27317999",
   "metadata": {},
   "outputs": [],
   "source": [
    "#Create a new dataframe with only the required columns\n",
    "df_analyze_dataframe = exercise[['ACFT_MAKE_NAME','LOC_STATE_NAME','ACFT_MODEL_NAME','RMK_TEXT',\n",
    "                                       'FLT_PHASE','EVENT_TYPE_DESC','FATAL_FLAG']]\n",
    "\n"
   ]
  },
  {
   "cell_type": "code",
   "execution_count": null,
   "id": "54d61c14",
   "metadata": {},
   "outputs": [],
   "source": [
    "type(df_analyze_dataframe)\n"
   ]
  },
  {
   "cell_type": "code",
   "execution_count": null,
   "id": "0bddbf1f",
   "metadata": {},
   "outputs": [],
   "source": [
    "df_analyze_dataframe.head()\n"
   ]
  },
  {
   "cell_type": "code",
   "execution_count": null,
   "id": "5af71048",
   "metadata": {},
   "outputs": [],
   "source": [
    "df_analyze_dataframe['FATAL_FLAG'].fillna(value = 'No',inplace = True)"
   ]
  },
  {
   "cell_type": "code",
   "execution_count": null,
   "id": "00a8635c",
   "metadata": {},
   "outputs": [],
   "source": [
    "df_analyze_dataframe.head()\n"
   ]
  },
  {
   "cell_type": "code",
   "execution_count": null,
   "id": "a71776b8",
   "metadata": {},
   "outputs": [],
   "source": [
    "df_analyze_dataframe.shape\n"
   ]
  },
  {
   "cell_type": "code",
   "execution_count": null,
   "id": "918ee04d",
   "metadata": {},
   "outputs": [],
   "source": [
    "#Drop the unwanted values/observations from the dataset\n",
    "df_final_dataset = df_analyze_dataframe.dropna(subset = ['ACFT_MAKE_NAME'])\n"
   ]
  },
  {
   "cell_type": "code",
   "execution_count": null,
   "id": "019e03f8",
   "metadata": {},
   "outputs": [],
   "source": [
    "df_final_dataset.shape\n"
   ]
  },
  {
   "cell_type": "code",
   "execution_count": null,
   "id": "e2d7993f",
   "metadata": {},
   "outputs": [],
   "source": [
    "aircraftType = df_final_dataset.groupby('ACFT_MAKE_NAME')\n"
   ]
  },
  {
   "cell_type": "code",
   "execution_count": null,
   "id": "ca15169d",
   "metadata": {},
   "outputs": [],
   "source": [
    "aircraftType.size()"
   ]
  },
  {
   "cell_type": "code",
   "execution_count": null,
   "id": "f4934eaf",
   "metadata": {},
   "outputs": [],
   "source": [
    "fatalAccident = df_final_dataset.groupby('FATAL_FLAG')\n"
   ]
  },
  {
   "cell_type": "code",
   "execution_count": null,
   "id": "21948803",
   "metadata": {},
   "outputs": [],
   "source": [
    "fatalAccident.size()\n"
   ]
  },
  {
   "cell_type": "code",
   "execution_count": null,
   "id": "183d2e96",
   "metadata": {},
   "outputs": [],
   "source": [
    "#K Create a new dataframe to view only the fatal accidents (Fatal Flag values = Yes)\n",
    "accidents_with_fatality = fatalAccident.get_group('Yes')\n"
   ]
  },
  {
   "cell_type": "code",
   "execution_count": null,
   "id": "8f63a730",
   "metadata": {},
   "outputs": [],
   "source": []
  }
 ],
 "metadata": {
  "kernelspec": {
   "display_name": "Python 3 (ipykernel)",
   "language": "python",
   "name": "python3"
  },
  "language_info": {
   "codemirror_mode": {
    "name": "ipython",
    "version": 3
   },
   "file_extension": ".py",
   "mimetype": "text/x-python",
   "name": "python",
   "nbconvert_exporter": "python",
   "pygments_lexer": "ipython3",
   "version": "3.9.12"
  }
 },
 "nbformat": 4,
 "nbformat_minor": 5
}
