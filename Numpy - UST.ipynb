{
 "cells": [
  {
   "cell_type": "markdown",
   "id": "07989eb7",
   "metadata": {},
   "source": [
    "#### Numpy\n",
    "    * Numpy is core data science library for mathematics?scientific computing in python. It provides a high-performance multidimentional array object and foe working with array.\n",
    "    * Numpy provides fast built-in object(nd-array).\n",
    "    "
   ]
  },
  {
   "cell_type": "code",
   "execution_count": 1,
   "id": "5ec6bd74",
   "metadata": {},
   "outputs": [],
   "source": [
    "import numpy as np"
   ]
  },
  {
   "cell_type": "markdown",
   "id": "4dd1621d",
   "metadata": {},
   "source": [
    "#### Numpy Array"
   ]
  },
  {
   "cell_type": "code",
   "execution_count": 2,
   "id": "020e5175",
   "metadata": {},
   "outputs": [
    {
     "data": {
      "text/plain": [
       "array([0, 1, 2, 3, 4, 5, 6, 7])"
      ]
     },
     "metadata": {},
     "output_type": "display_data"
    }
   ],
   "source": [
    "arr = np.array([0,1,2,3,4,5,6,7])   # Create a rank 1 numpy array\n",
    "display(arr)"
   ]
  },
  {
   "cell_type": "code",
   "execution_count": 3,
   "id": "1b9f0df6",
   "metadata": {},
   "outputs": [
    {
     "name": "stdout",
     "output_type": "stream",
     "text": [
      "<class 'numpy.ndarray'>\n"
     ]
    }
   ],
   "source": [
    "print(type(arr))"
   ]
  },
  {
   "cell_type": "code",
   "execution_count": 4,
   "id": "5e0b1932",
   "metadata": {},
   "outputs": [
    {
     "data": {
      "text/plain": [
       "dtype('int32')"
      ]
     },
     "execution_count": 4,
     "metadata": {},
     "output_type": "execute_result"
    }
   ],
   "source": [
    "# array - int8, int16, int32, int64\n",
    "arr.dtype # size in bits of each element from an array"
   ]
  },
  {
   "cell_type": "code",
   "execution_count": 5,
   "id": "3a2400ac",
   "metadata": {},
   "outputs": [
    {
     "data": {
      "text/plain": [
       "4"
      ]
     },
     "execution_count": 5,
     "metadata": {},
     "output_type": "execute_result"
    }
   ],
   "source": [
    "arr.itemsize     #size of each element from an array"
   ]
  },
  {
   "cell_type": "code",
   "execution_count": 6,
   "id": "f3549de3",
   "metadata": {},
   "outputs": [
    {
     "data": {
      "text/plain": [
       "(8,)"
      ]
     },
     "execution_count": 6,
     "metadata": {},
     "output_type": "execute_result"
    }
   ],
   "source": [
    "arr.shape  # shape returns a tuple listing length of the array along each dimensions\n"
   ]
  },
  {
   "cell_type": "code",
   "execution_count": 7,
   "id": "89e808ca",
   "metadata": {},
   "outputs": [
    {
     "name": "stdout",
     "output_type": "stream",
     "text": [
      "1\n"
     ]
    }
   ],
   "source": [
    "print(arr.ndim)"
   ]
  },
  {
   "cell_type": "code",
   "execution_count": 8,
   "id": "b1e885ef",
   "metadata": {},
   "outputs": [
    {
     "name": "stdout",
     "output_type": "stream",
     "text": [
      "32\n"
     ]
    }
   ],
   "source": [
    "print(arr.nbytes) # return number of bytes used by data of the n-d array\n"
   ]
  },
  {
   "cell_type": "markdown",
   "id": "89fd5369",
   "metadata": {},
   "source": [
    "#### Array Operations\n",
    "    * simple Array math operations."
   ]
  },
  {
   "cell_type": "code",
   "execution_count": 9,
   "id": "f57e0b39",
   "metadata": {},
   "outputs": [
    {
     "name": "stdout",
     "output_type": "stream",
     "text": [
      "[11 22 33 44 55 66 77]\n"
     ]
    }
   ],
   "source": [
    "a = np.array([10,20,30,40,50,60,70], dtype = 'int64')\n",
    "b = np.array([1,2,3,4,5,6,7])\n",
    "\n",
    "#velements by elements addition or subtraction\n",
    "print(a + b)"
   ]
  },
  {
   "cell_type": "code",
   "execution_count": 10,
   "id": "88fd5ec3",
   "metadata": {},
   "outputs": [
    {
     "name": "stdout",
     "output_type": "stream",
     "text": [
      "[ 10  40  90 160 250 360 490]\n"
     ]
    }
   ],
   "source": [
    "print(a * b)"
   ]
  },
  {
   "cell_type": "code",
   "execution_count": 11,
   "id": "05229f79",
   "metadata": {},
   "outputs": [
    {
     "name": "stdout",
     "output_type": "stream",
     "text": [
      "[           10           400         27000       2560000     312500000\n",
      "   46656000000 8235430000000]\n"
     ]
    }
   ],
   "source": [
    "print(a ** b)"
   ]
  },
  {
   "cell_type": "code",
   "execution_count": 12,
   "id": "d43be880",
   "metadata": {},
   "outputs": [
    {
     "data": {
      "text/plain": [
       "array([ 0,  1,  2,  3,  4,  5,  6,  7,  8,  9, 10])"
      ]
     },
     "execution_count": 12,
     "metadata": {},
     "output_type": "execute_result"
    }
   ],
   "source": [
    "np.arange(0, 11, 1)"
   ]
  },
  {
   "cell_type": "code",
   "execution_count": 13,
   "id": "78285800",
   "metadata": {},
   "outputs": [
    {
     "data": {
      "text/plain": [
       "array([ 0,  1,  2,  3,  4,  5,  6,  7,  8,  9, 10])"
      ]
     },
     "execution_count": 13,
     "metadata": {},
     "output_type": "execute_result"
    }
   ],
   "source": [
    "np.arange(0, 11, 1)"
   ]
  },
  {
   "cell_type": "code",
   "execution_count": 14,
   "id": "df98f076",
   "metadata": {},
   "outputs": [
    {
     "data": {
      "text/plain": [
       "array([ 1.,  3.,  5.,  7.,  9., 11., 13., 15.])"
      ]
     },
     "execution_count": 14,
     "metadata": {},
     "output_type": "execute_result"
    }
   ],
   "source": [
    "np.arange(1., 16.,2)"
   ]
  },
  {
   "cell_type": "code",
   "execution_count": 15,
   "id": "a80dd34b",
   "metadata": {},
   "outputs": [
    {
     "name": "stdout",
     "output_type": "stream",
     "text": [
      "numpy in this example is :0.5641740883885061  Faster\n"
     ]
    }
   ],
   "source": [
    "import time\n",
    "import numpy as np\n",
    "\n",
    "array_size = 1000000\n",
    "def python_version():\n",
    "    #start time\n",
    "    t1 = time.time()\n",
    "    x = range(array_size)\n",
    "    y = range(array_size)\n",
    "    # Element by element addition\n",
    "    z = [ x[i] + y[i] for i in range(len(x))]\n",
    "    return time.time() - t1\n",
    "\n",
    "def python_version():\n",
    "    #start time\n",
    "    t1 = time.time()\n",
    "    x = np.arange(array_size)\n",
    "    y = np.arange(array_size)\n",
    "    z = [ x + y ]\n",
    "    return time.time() - t1\n",
    "\n",
    "t1 = python_version()\n",
    "t2 = python_version()\n",
    "\n",
    "print(\"numpy in this example is :\" + str(t1/t2) + ' ' ,'Faster')\n",
    "    "
   ]
  },
  {
   "cell_type": "code",
   "execution_count": 16,
   "id": "36e6423a",
   "metadata": {},
   "outputs": [
    {
     "name": "stdout",
     "output_type": "stream",
     "text": [
      "0.00400233268737793 0.007094144821166992\n"
     ]
    }
   ],
   "source": [
    "print(t1, t2)"
   ]
  },
  {
   "cell_type": "code",
   "execution_count": 17,
   "id": "fe648d1f",
   "metadata": {},
   "outputs": [
    {
     "ename": "TypeError",
     "evalue": "unsupported operand type(s) for /: 'list' and 'list'",
     "output_type": "error",
     "traceback": [
      "\u001b[1;31m---------------------------------------------------------------------------\u001b[0m",
      "\u001b[1;31mTypeError\u001b[0m                                 Traceback (most recent call last)",
      "Input \u001b[1;32mIn [17]\u001b[0m, in \u001b[0;36m<cell line: 4>\u001b[1;34m()\u001b[0m\n\u001b[0;32m      1\u001b[0m distance_list \u001b[38;5;241m=\u001b[39m [\u001b[38;5;241m10\u001b[39m,\u001b[38;5;241m15\u001b[39m,\u001b[38;5;241m18\u001b[39m,\u001b[38;5;241m19\u001b[39m,\u001b[38;5;241m21\u001b[39m,\u001b[38;5;241m23\u001b[39m]\n\u001b[0;32m      2\u001b[0m time_list \u001b[38;5;241m=\u001b[39m [\u001b[38;5;241m.20\u001b[39m, \u001b[38;5;241m.43\u001b[39m, \u001b[38;5;241m.55\u001b[39m, \u001b[38;5;241m1.1\u001b[39m, \u001b[38;5;241m.59\u001b[39m, \u001b[38;5;241m1.2\u001b[39m]\n\u001b[1;32m----> 4\u001b[0m speed \u001b[38;5;241m=\u001b[39m \u001b[43mdistance_list\u001b[49m\u001b[43m \u001b[49m\u001b[38;5;241;43m/\u001b[39;49m\u001b[43m \u001b[49m\u001b[43mtime_list\u001b[49m\n",
      "\u001b[1;31mTypeError\u001b[0m: unsupported operand type(s) for /: 'list' and 'list'"
     ]
    }
   ],
   "source": [
    "distance_list = [10,15,18,19,21,23]\n",
    "time_list = [.20, .43, .55, 1.1, .59, 1.2]\n",
    "\n",
    "speed = distance_list / time_list"
   ]
  },
  {
   "cell_type": "code",
   "execution_count": null,
   "id": "450eec4d",
   "metadata": {},
   "outputs": [],
   "source": [
    "distance_arr = np.array([10,15,18,19,21,23])\n",
    "time_arr = [.20, .43, .55, 1.1, .59, 1.2]\n",
    "\n",
    "speed_arr = distance_arr / time_arr\n",
    "speed_arr"
   ]
  },
  {
   "cell_type": "markdown",
   "id": "6d0e5c57",
   "metadata": {},
   "source": [
    "#### Types of Numpy Array"
   ]
  },
  {
   "cell_type": "code",
   "execution_count": null,
   "id": "9e98a06f",
   "metadata": {},
   "outputs": [],
   "source": [
    "# Create a 1-D Array\n",
    "arr_1 = np.array([10,15,18,19,21,25])"
   ]
  },
  {
   "cell_type": "code",
   "execution_count": null,
   "id": "517d75db",
   "metadata": {},
   "outputs": [],
   "source": [
    "arr_2 = np.array([[1,5,8,9,11,15],[10,15,18,19,21,25]])\n",
    "print(arr_2)"
   ]
  },
  {
   "cell_type": "code",
   "execution_count": null,
   "id": "5eea971b",
   "metadata": {},
   "outputs": [],
   "source": [
    "arr_2.shape"
   ]
  },
  {
   "cell_type": "code",
   "execution_count": null,
   "id": "257dbc90",
   "metadata": {},
   "outputs": [],
   "source": [
    "arr_2.dtype"
   ]
  },
  {
   "cell_type": "code",
   "execution_count": null,
   "id": "0ce04ba9",
   "metadata": {},
   "outputs": [],
   "source": [
    "arr_2.ndim"
   ]
  },
  {
   "cell_type": "code",
   "execution_count": null,
   "id": "0bbf77d4",
   "metadata": {},
   "outputs": [],
   "source": [
    "# row index = 1\n",
    "arr_2[1][2]"
   ]
  },
  {
   "cell_type": "code",
   "execution_count": null,
   "id": "0d4075be",
   "metadata": {},
   "outputs": [],
   "source": [
    "# indexing of 2-d Array\n",
    "arr_2 [1][4]\n",
    "# Alternative\n",
    "arr_2 [-1][-2]"
   ]
  },
  {
   "cell_type": "markdown",
   "id": "74698229",
   "metadata": {},
   "source": [
    "####        Three Dimentional Array"
   ]
  },
  {
   "cell_type": "code",
   "execution_count": null,
   "id": "c1cfed93",
   "metadata": {},
   "outputs": [],
   "source": [
    "arr_3 = np.array([[[0, 1,2,3,4,5],\n",
    "                 [10,11,12,13,14,15],\n",
    "                 [16,17,21, 32, 23, 19]],\n",
    "                 \n",
    "                 [[0, 1,2,3,4,5],\n",
    "                 [10,11,12,13,14,15],\n",
    "                 [16,17,21, 32, 23 ,19]],\n",
    "                 \n",
    "                 [[0, 1,2,3,4,5],\n",
    "                 [10,11,12,13,14,15],\n",
    "                 [16,17,21 ,32 ,23 ,19]]])\n"
   ]
  },
  {
   "cell_type": "markdown",
   "id": "14aa0d2d",
   "metadata": {},
   "source": [
    "#### Numpy Array Sclicing"
   ]
  },
  {
   "cell_type": "code",
   "execution_count": null,
   "id": "4451d35c",
   "metadata": {},
   "outputs": [],
   "source": [
    "arr_6 = np.arange(1, 37).reshape(6,6)\n",
    "arr_6"
   ]
  },
  {
   "cell_type": "code",
   "execution_count": null,
   "id": "eabd2944",
   "metadata": {},
   "outputs": [],
   "source": [
    "arr_4 = np.arange(50)\n",
    "print(arr_4)\n"
   ]
  },
  {
   "cell_type": "code",
   "execution_count": null,
   "id": "53ee2030",
   "metadata": {},
   "outputs": [],
   "source": [
    "arr_4 = arr_4[::-1]\n",
    "arr_4"
   ]
  },
  {
   "cell_type": "code",
   "execution_count": null,
   "id": "258a347c",
   "metadata": {},
   "outputs": [],
   "source": [
    "arr_5 = np.arange(10)\n",
    "print(arr_5)\n",
    "reversed_arr = np.flipud(arr_5)\n",
    "print(reversed_arr)"
   ]
  },
  {
   "cell_type": "code",
   "execution_count": null,
   "id": "d6348f56",
   "metadata": {},
   "outputs": [],
   "source": [
    "arr_6 = np.arange(1, 37).reshape(6,6)\n",
    "arr_6"
   ]
  },
  {
   "cell_type": "code",
   "execution_count": null,
   "id": "7adaa48d",
   "metadata": {},
   "outputs": [],
   "source": [
    "np.flipud(arr_6)"
   ]
  },
  {
   "cell_type": "code",
   "execution_count": null,
   "id": "c0b9c9ff",
   "metadata": {},
   "outputs": [],
   "source": [
    "np.fliplr(arr_6)"
   ]
  },
  {
   "cell_type": "code",
   "execution_count": null,
   "id": "8d8fa117",
   "metadata": {},
   "outputs": [],
   "source": [
    "np.flip(arr_6)\n"
   ]
  },
  {
   "cell_type": "markdown",
   "id": "2a440010",
   "metadata": {},
   "source": [
    "#### Array Create Function\n",
    "     1. np.ones()\n",
    "     2. np.zeros()"
   ]
  },
  {
   "cell_type": "code",
   "execution_count": null,
   "id": "1e7b81d9",
   "metadata": {},
   "outputs": [],
   "source": [
    "# shape 3 rows & 6 columns\n",
    "\n",
    "np.ones((3,6), dtype = 'float32')"
   ]
  },
  {
   "cell_type": "code",
   "execution_count": null,
   "id": "63d5317c",
   "metadata": {},
   "outputs": [],
   "source": [
    "np.zeros((4,6), dtype = 'float32')"
   ]
  },
  {
   "cell_type": "markdown",
   "id": "4824392e",
   "metadata": {},
   "source": [
    "3. Identity Matrix\n",
    "    * Generate a N x N Identity Matrix. The Default dtype is float64\n",
    "    * Diagonal values are 1, non-diagonal are zeros."
   ]
  },
  {
   "cell_type": "code",
   "execution_count": null,
   "id": "5a604cb1",
   "metadata": {},
   "outputs": [],
   "source": [
    "np.identity(7, dtype = 'int8')"
   ]
  },
  {
   "cell_type": "markdown",
   "id": "7f1c863f",
   "metadata": {},
   "source": [
    "4. Empty, Full, Fill"
   ]
  },
  {
   "cell_type": "code",
   "execution_count": null,
   "id": "c1f3cdca",
   "metadata": {},
   "outputs": [],
   "source": [
    "arr_7 = np.empty(6)"
   ]
  },
  {
   "cell_type": "code",
   "execution_count": null,
   "id": "ef8db80d",
   "metadata": {},
   "outputs": [],
   "source": [
    "arr_7.fill(6.0)\n",
    "arr_7"
   ]
  },
  {
   "cell_type": "code",
   "execution_count": null,
   "id": "224dc410",
   "metadata": {},
   "outputs": [],
   "source": [
    "# Create an array of shape 10, filled with 6.5\n",
    "\n",
    "np.full(10, 6.5)"
   ]
  },
  {
   "cell_type": "markdown",
   "id": "e70b3d7b",
   "metadata": {},
   "source": [
    "5. LinSpace\n",
    "    * Generate N evenly spaced elements between start and stop(stop last value will be included)"
   ]
  },
  {
   "cell_type": "code",
   "execution_count": null,
   "id": "62e06383",
   "metadata": {},
   "outputs": [],
   "source": [
    "np.linspace(0,1,11)"
   ]
  },
  {
   "cell_type": "code",
   "execution_count": null,
   "id": "12b93ac8",
   "metadata": {},
   "outputs": [],
   "source": [
    "np.linspace(0,10,12).reshape(4,3)"
   ]
  },
  {
   "cell_type": "markdown",
   "id": "709e863d",
   "metadata": {},
   "source": [
    "6. logspace\n",
    "  *Generate N evenly spaced elements on a log scale between start and stop(log base = 10)"
   ]
  },
  {
   "cell_type": "code",
   "execution_count": null,
   "id": "67e0ea2e",
   "metadata": {},
   "outputs": [],
   "source": [
    "np.logspace(0, 1, 6, base=10)"
   ]
  },
  {
   "cell_type": "markdown",
   "id": "874e0022",
   "metadata": {},
   "source": [
    "#### Exercise 1: Create 2D Array with 1 on the Board & rest position will be zeros. shape = 10X10"
   ]
  },
  {
   "cell_type": "code",
   "execution_count": null,
   "id": "93222600",
   "metadata": {},
   "outputs": [],
   "source": [
    "arr_8 = np.ones((10,10), dtype = 'int8')\n",
    "arr_8 [1:-1,1:-1] = 0\n",
    "arr_8"
   ]
  },
  {
   "cell_type": "code",
   "execution_count": null,
   "id": "0a820571",
   "metadata": {},
   "outputs": [],
   "source": [
    "arr_9 = np.zeros((10,10), dtype = 'int8')\n",
    "arr_9[1:-1, 1:-1] = 1\n",
    "arr_9\n"
   ]
  },
  {
   "cell_type": "markdown",
   "id": "b341b4ad",
   "metadata": {},
   "source": [
    "#### Exercise 2: Checker Board : Create 8x8 matrix & fill it with 1s & 0s in sequence "
   ]
  },
  {
   "cell_type": "code",
   "execution_count": null,
   "id": "ca261f84",
   "metadata": {},
   "outputs": [],
   "source": [
    "arr_10 = np.zeros((8,8), dtype = 'int8')\n",
    "# Select every alternative element\n",
    "arr_10[1::2, ::2] = 1\n",
    "arr_10[::2, 1::2] = 1\n",
    "print(arr_10)"
   ]
  },
  {
   "cell_type": "code",
   "execution_count": null,
   "id": "f9ca4455",
   "metadata": {},
   "outputs": [],
   "source": [
    "arr_10 = np.ones((8,8), dtype = 'int8')\n",
    "# Select every alternative element\n",
    "arr_10[::2, 1::2] = 0\n",
    "arr_10[1::2,  ::2] = 0\n",
    "print(arr_10)"
   ]
  },
  {
   "cell_type": "markdown",
   "id": "db34b735",
   "metadata": {},
   "source": [
    "#### Numpy \n",
    "   * Array Calcunation Method"
   ]
  },
  {
   "cell_type": "code",
   "execution_count": null,
   "id": "422ebf11",
   "metadata": {},
   "outputs": [],
   "source": [
    "arr_11 = np.array([[[1, 2, 4],\n",
    "                    [4, 5, 6]],\n",
    "                   [[1, 2, 4],\n",
    "                    [4,5,6]]])\n",
    "arr_11"
   ]
  },
  {
   "cell_type": "code",
   "execution_count": null,
   "id": "3f3d1c71",
   "metadata": {},
   "outputs": [],
   "source": [
    "arr_12 = np.arange(0, 36).reshape(6,6)\n",
    "arr_12.min()"
   ]
  },
  {
   "cell_type": "code",
   "execution_count": null,
   "id": "682e1733",
   "metadata": {},
   "outputs": [],
   "source": [
    "arr_12"
   ]
  },
  {
   "cell_type": "code",
   "execution_count": null,
   "id": "102fb977",
   "metadata": {},
   "outputs": [],
   "source": [
    "arr_12.min(axis = 1)"
   ]
  },
  {
   "cell_type": "code",
   "execution_count": null,
   "id": "171c3952",
   "metadata": {},
   "outputs": [],
   "source": [
    "arr_12.min(axis = 0)"
   ]
  },
  {
   "cell_type": "code",
   "execution_count": null,
   "id": "db56ce01",
   "metadata": {},
   "outputs": [],
   "source": [
    "# np.where() returns row index, column index\n",
    "np.where(arr_12 > 20)"
   ]
  },
  {
   "cell_type": "code",
   "execution_count": null,
   "id": "2bd39e94",
   "metadata": {},
   "outputs": [],
   "source": [
    "np.where(arr_12 == arr_12.min())"
   ]
  },
  {
   "cell_type": "code",
   "execution_count": null,
   "id": "3e15f78f",
   "metadata": {},
   "outputs": [],
   "source": [
    "np.where(arr_12 == arr_12.min())[0][0], np.where(arr_12 == arr_12.min())[1][0]\n"
   ]
  },
  {
   "cell_type": "markdown",
   "id": "5d1d8c47",
   "metadata": {},
   "source": [
    "#### Statistical Array Methods"
   ]
  },
  {
   "cell_type": "code",
   "execution_count": null,
   "id": "642c6d2c",
   "metadata": {},
   "outputs": [],
   "source": [
    "arr_1 = np.array([[[1, 2, 4],\n",
    "                    [4, 5, 6]],\n",
    "                   [[1, 2, 4],\n",
    "                    [4,5,6]]])\n",
    "arr_11"
   ]
  },
  {
   "cell_type": "markdown",
   "id": "21e0729a",
   "metadata": {},
   "source": [
    "#### argmax()\n",
    "   * Returns the index position of maximum value present in numpy array"
   ]
  },
  {
   "cell_type": "code",
   "execution_count": 18,
   "id": "0ce7c45a",
   "metadata": {},
   "outputs": [
    {
     "data": {
      "text/plain": [
       "4"
      ]
     },
     "execution_count": 18,
     "metadata": {},
     "output_type": "execute_result"
    }
   ],
   "source": [
    "arr_13 = [1.0, 2.0, 4.0, 5.0, 9.0, 3.0, 5.0, 1.0]\n",
    "np.argmax(arr_13)"
   ]
  },
  {
   "cell_type": "code",
   "execution_count": 20,
   "id": "582defdc",
   "metadata": {},
   "outputs": [
    {
     "data": {
      "text/plain": [
       "5"
      ]
     },
     "execution_count": 20,
     "metadata": {},
     "output_type": "execute_result"
    }
   ],
   "source": [
    "arr_13 = [0, 0, 0, 0, 0, 1, 0, 0, 0]\n",
    "np.argmax(arr_13)"
   ]
  }
 ],
 "metadata": {
  "kernelspec": {
   "display_name": "Python 3 (ipykernel)",
   "language": "python",
   "name": "python3"
  },
  "language_info": {
   "codemirror_mode": {
    "name": "ipython",
    "version": 3
   },
   "file_extension": ".py",
   "mimetype": "text/x-python",
   "name": "python",
   "nbconvert_exporter": "python",
   "pygments_lexer": "ipython3",
   "version": "3.9.12"
  }
 },
 "nbformat": 4,
 "nbformat_minor": 5
}
