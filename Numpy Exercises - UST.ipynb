{
 "cells": [
  {
   "cell_type": "code",
   "execution_count": 3,
   "id": "11bb4c90",
   "metadata": {},
   "outputs": [],
   "source": [
    "import numpy as np"
   ]
  },
  {
   "cell_type": "markdown",
   "id": "4a74cc33",
   "metadata": {},
   "source": [
    "#### Replace all odd/even number in given numpy  "
   ]
  },
  {
   "cell_type": "markdown",
   "id": "8870c0de",
   "metadata": {},
   "source": [
    "#### Exercise 3: Find the count of values in a numpy array."
   ]
  },
  {
   "cell_type": "code",
   "execution_count": null,
   "id": "81a7c4d0",
   "metadata": {},
   "outputs": [],
   "source": [
    "iris_data = np.genfromtxt('', delimiter = ',', skip_header = 1, dtype = str, usecols=[4])\n",
    "\n",
    "np.unique(iris_data, return_counts=True)"
   ]
  },
  {
   "cell_type": "markdown",
   "id": "40e9a4d1",
   "metadata": {},
   "source": [
    "#### Exercise 4: Filter numpy array based on two or more conditions."
   ]
  },
  {
   "cell_type": "code",
   "execution_count": null,
   "id": "59ebd311",
   "metadata": {},
   "outputs": [],
   "source": [
    "iris_data = np.genfromtxt('', delimer = ',', skip_header = 1, dtype = float, usecols = [0,1,2,3])\n",
    "iris_data"
   ]
  },
  {
   "cell_type": "code",
   "execution_count": null,
   "id": "718c2a55",
   "metadata": {},
   "outputs": [],
   "source": [
    "iris_data[(iris_data[:, 2] > 1.5) & (iris_data[:,0] < 5.0)]"
   ]
  },
  {
   "cell_type": "markdown",
   "id": "128cf0f3",
   "metadata": {},
   "source": [
    "#### Exercise 5: Find if given array has any Null/NaN values."
   ]
  },
  {
   "cell_type": "code",
   "execution_count": null,
   "id": "8bb3db6f",
   "metadata": {},
   "outputs": [],
   "source": [
    "np.isnan(iris_data).any()"
   ]
  },
  {
   "cell_type": "code",
   "execution_count": null,
   "id": "106a961e",
   "metadata": {},
   "outputs": [],
   "source": [
    "iris_data[(iris_data[:, 2] > 1.5) & (iris_data[:, 0] < 5.5)]"
   ]
  },
  {
   "cell_type": "code",
   "execution_count": null,
   "id": "187d5be1",
   "metadata": {},
   "outputs": [],
   "source": [
    "# Replace values in 2nd column 3.4 and column3  1.7 by np.nan\n",
    "iris_data[(iris_data[:,:] == 3.4) | (iris_data[:,:] == 1.7)] = np.nan"
   ]
  },
  {
   "cell_type": "code",
   "execution_count": null,
   "id": "3824e559",
   "metadata": {},
   "outputs": [],
   "source": [
    "np.isnan(iris_data).sum(axis = 0)"
   ]
  },
  {
   "cell_type": "markdown",
   "id": "e0a8f1f7",
   "metadata": {},
   "source": [
    "#### Exercise 6: Find the most frequent value in a numpy array for each column. "
   ]
  },
  {
   "cell_type": "markdown",
   "id": "2b4b9391",
   "metadata": {},
   "source": [
    "Exercise 7:"
   ]
  },
  {
   "cell_type": "markdown",
   "id": "9a58cc5f",
   "metadata": {},
   "source": [
    "#### Write a program that accepts a sentence and find value counts of letter & digits. Input value will be supplied to program . Display output as a dict{'Letters' : 'value' , 'Digits' : 'values'}"
   ]
  },
  {
   "cell_type": "code",
   "execution_count": 6,
   "id": "89e1079f",
   "metadata": {},
   "outputs": [
    {
     "name": "stdout",
     "output_type": "stream",
     "text": [
      "enter a sentence: hello python 1345\n",
      "Letters 11\n",
      "Digits 4\n"
     ]
    }
   ],
   "source": [
    "text = input(\"enter a sentence: \")\n",
    "dict1 ={'Letters':0, 'Digits': 0}\n",
    "for char in text:\n",
    "    if char.isdigit():\n",
    "        dict1['Digits'] += 1\n",
    "    elif char.isalpha():\n",
    "        dict1['Letters'] += 1\n",
    "    else:\n",
    "        pass\n",
    "print('Letters' , dict1['Letters'])\n",
    "print('Digits' , dict1['Digits'])\n"
   ]
  },
  {
   "cell_type": "markdown",
   "id": "4b4592c0",
   "metadata": {},
   "source": [
    "#### Exercise 9: Read a text file poem.txt using file open() and plot barplot/lineplot of words and its counts."
   ]
  },
  {
   "cell_type": "code",
   "execution_count": null,
   "id": "fcab1ff4",
   "metadata": {},
   "outputs": [],
   "source": []
  }
 ],
 "metadata": {
  "kernelspec": {
   "display_name": "Python 3 (ipykernel)",
   "language": "python",
   "name": "python3"
  },
  "language_info": {
   "codemirror_mode": {
    "name": "ipython",
    "version": 3
   },
   "file_extension": ".py",
   "mimetype": "text/x-python",
   "name": "python",
   "nbconvert_exporter": "python",
   "pygments_lexer": "ipython3",
   "version": "3.9.12"
  }
 },
 "nbformat": 4,
 "nbformat_minor": 5
}
