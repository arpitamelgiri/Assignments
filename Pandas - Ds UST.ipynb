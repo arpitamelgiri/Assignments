{
 "cells": [
  {
   "cell_type": "code",
   "execution_count": null,
   "id": "b0230140",
   "metadata": {},
   "outputs": [],
   "source": []
  },
  {
   "cell_type": "code",
   "execution_count": 4,
   "id": "72d9abd6",
   "metadata": {},
   "outputs": [
    {
     "ename": "NameError",
     "evalue": "name 'auto_price' is not defined",
     "output_type": "error",
     "traceback": [
      "\u001b[1;31m---------------------------------------------------------------------------\u001b[0m",
      "\u001b[1;31mNameError\u001b[0m                                 Traceback (most recent call last)",
      "Input \u001b[1;32mIn [4]\u001b[0m, in \u001b[0;36m<cell line: 2>\u001b[1;34m()\u001b[0m\n\u001b[0;32m      1\u001b[0m \u001b[38;5;66;03m# Multiple columns\u001b[39;00m\n\u001b[1;32m----> 2\u001b[0m \u001b[43mauto_price\u001b[49m[[\u001b[38;5;124m'\u001b[39m\u001b[38;5;124mmake\u001b[39m\u001b[38;5;124m'\u001b[39m, \u001b[38;5;124m'\u001b[39m\u001b[38;5;124mbody-style\u001b[39m\u001b[38;5;124m'\u001b[39m, \u001b[38;5;124m'\u001b[39m\u001b[38;5;124mengine-size\u001b[39m\u001b[38;5;124m'\u001b[39m]]\n",
      "\u001b[1;31mNameError\u001b[0m: name 'auto_price' is not defined"
     ]
    }
   ],
   "source": [
    "# Multiple columns\n",
    "auto_price[['make', 'body-style', 'engine-size']]"
   ]
  },
  {
   "cell_type": "markdown",
   "id": "db313682",
   "metadata": {},
   "source": [
    "#### Filter DataFrame"
   ]
  },
  {
   "cell_type": "code",
   "execution_count": null,
   "id": "7eeecadb",
   "metadata": {},
   "outputs": [],
   "source": [
    "# Boolean Condition\n",
    "auto_price[auto_price]['make'] == 'audi'"
   ]
  },
  {
   "cell_type": "code",
   "execution_count": null,
   "id": "74e82dc9",
   "metadata": {},
   "outputs": [],
   "source": [
    "# and b/w two condition\n",
    "auto_price[auto_price['make'] == 'toyota') & (auto_price['num-of-doors'] == 'two')]"
   ]
  },
  {
   "cell_type": "code",
   "execution_count": null,
   "id": "a2864ba8",
   "metadata": {},
   "outputs": [],
   "source": [
    "# Or b/w two conditions - it will return True only if any condition is true.\n",
    "auto_price[auto_price['make'] == 'bmw') | (auto_price['num-of-doors'] == 'two')]"
   ]
  },
  {
   "cell_type": "code",
   "execution_count": null,
   "id": "d0aab2ca",
   "metadata": {},
   "outputs": [],
   "source": [
    "# Filter rows with engine-size > 120 &- body-style = 'convertible'\n",
    "(auto_price['engine-size'] > 120) & (auto_price['body-style'] == 'convertible')"
   ]
  },
  {
   "cell_type": "markdown",
   "id": "ccb45c33",
   "metadata": {},
   "source": [
    "#### Slicing of DataFrame\n",
    "       * loc & iloc"
   ]
  },
  {
   "cell_type": "code",
   "execution_count": null,
   "id": "3206450e",
   "metadata": {},
   "outputs": [],
   "source": [
    "# Scicing rows & columns\n",
    "# All rows & all columns\n",
    "auto_price.loc[:,:]"
   ]
  },
  {
   "cell_type": "code",
   "execution_count": null,
   "id": "b224f5a9",
   "metadata": {},
   "outputs": [],
   "source": [
    "# Slice rows b/w start = 10 and stop = 20\n",
    "auto_price.loc[10:20,:]"
   ]
  },
  {
   "cell_type": "code",
   "execution_count": null,
   "id": "b6ca113b",
   "metadata": {},
   "outputs": [],
   "source": [
    "# loc - columns names to select columns sequentially\n",
    "auto_price.loc[10:20, 'make': 'engine-size']"
   ]
  },
  {
   "cell_type": "code",
   "execution_count": null,
   "id": "2fa16c10",
   "metadata": {},
   "outputs": [],
   "source": [
    "# In ioc - It uses index values to select columns & rows\n",
    "auto_price.iloc[10:20, 2:9]"
   ]
  },
  {
   "cell_type": "code",
   "execution_count": null,
   "id": "ad198845",
   "metadata": {},
   "outputs": [],
   "source": [
    "# Reverse all columns position\n",
    "# start index : stop index : step index (-1)\n",
    "auto_price.iloc[10:20, ::-1]"
   ]
  },
  {
   "cell_type": "markdown",
   "id": "653382e1",
   "metadata": {},
   "source": [
    "#### Smapling"
   ]
  },
  {
   "cell_type": "code",
   "execution_count": null,
   "id": "18cb6a31",
   "metadata": {},
   "outputs": [],
   "source": [
    "# n - number of samples\n",
    "df_rand = auto_price.sample(n = 10)\n",
    "df_rand"
   ]
  },
  {
   "cell_type": "code",
   "execution_count": null,
   "id": "cdff2a75",
   "metadata": {},
   "outputs": [],
   "source": [
    "# Frac = random sampling using fraction (%)\n",
    "df_rand = auto_price.sample(frac = 0.2)\n",
    "df_rand "
   ]
  },
  {
   "cell_type": "markdown",
   "id": "6915efdb",
   "metadata": {},
   "source": [
    "#### Query"
   ]
  },
  {
   "cell_type": "code",
   "execution_count": null,
   "id": "f688d671",
   "metadata": {},
   "outputs": [],
   "source": [
    "auto_price.query(\"make == 'toyota' and `engine-size` > 100 and `drive-wheels` == 'fwd'\")\n"
   ]
  },
  {
   "cell_type": "markdown",
   "id": "e0ac1c7a",
   "metadata": {},
   "source": [
    "#### Drop \n",
    "   * To Drop Rows / columns"
   ]
  },
  {
   "cell_type": "code",
   "execution_count": null,
   "id": "5fd021e5",
   "metadata": {},
   "outputs": [],
   "source": [
    "# Drop Rows, default : axis = 0 (rowwise)\n",
    "auto_price.drop([2,3,4,5,6,7,8,11], axis = 0)"
   ]
  },
  {
   "cell_type": "code",
   "execution_count": null,
   "id": "617a6be8",
   "metadata": {},
   "outputs": [],
   "source": [
    "# Dropping columns, axis = 1 (columnwise)\n",
    "# inplace = True :  Updating DF permanently\n",
    "auto_price.drop(['symboling', 'normalized-losses'], axis = 1, inplace = True)"
   ]
  },
  {
   "cell_type": "code",
   "execution_count": null,
   "id": "96124af8",
   "metadata": {},
   "outputs": [],
   "source": [
    "auto_price"
   ]
  },
  {
   "cell_type": "markdown",
   "id": "70159459",
   "metadata": {},
   "source": [
    "#### Duplicate Rows"
   ]
  },
  {
   "cell_type": "code",
   "execution_count": null,
   "id": "7b925ec7",
   "metadata": {},
   "outputs": [],
   "source": [
    "auto_price.duplicated()"
   ]
  },
  {
   "cell_type": "code",
   "execution_count": null,
   "id": "efb7721e",
   "metadata": {},
   "outputs": [],
   "source": [
    "auto_price[auto_price.duplicated()]"
   ]
  },
  {
   "cell_type": "code",
   "execution_count": null,
   "id": "0031ab35",
   "metadata": {},
   "outputs": [],
   "source": [
    "auto_price.drop_duplicates(inplace=True)"
   ]
  },
  {
   "cell_type": "markdown",
   "id": "f5306a5d",
   "metadata": {},
   "source": [
    "#### Groupby"
   ]
  },
  {
   "cell_type": "code",
   "execution_count": null,
   "id": "329402ed",
   "metadata": {},
   "outputs": [],
   "source": [
    "auto_price.groupby(['make'])"
   ]
  },
  {
   "cell_type": "code",
   "execution_count": null,
   "id": "a63cac9a",
   "metadata": {},
   "outputs": [],
   "source": [
    "auto_price.groupby(['make']).first()"
   ]
  },
  {
   "cell_type": "code",
   "execution_count": null,
   "id": "69dffc03",
   "metadata": {},
   "outputs": [],
   "source": [
    "auto_price.groupby(['make'])[['city-mpg', 'highway-mpg']].mean().sort_values(by = 'city-mpg')"
   ]
  },
  {
   "cell_type": "code",
   "execution_count": null,
   "id": "41e3a3b4",
   "metadata": {},
   "outputs": [],
   "source": [
    "auto_price.groupby(['make'])[['city-mpg','highway-mpg']].max().sort_values(by = 'city-mpg')\n"
   ]
  },
  {
   "cell_type": "code",
   "execution_count": null,
   "id": "a6589f74",
   "metadata": {},
   "outputs": [],
   "source": [
    "auto_price.groupby(['make','body-style'])[['city-mpg','highway-mpg']].mean()\n"
   ]
  },
  {
   "cell_type": "markdown",
   "id": "4c71c763",
   "metadata": {},
   "source": [
    "#### Concat"
   ]
  },
  {
   "cell_type": "code",
   "execution_count": null,
   "id": "cfbf779b",
   "metadata": {},
   "outputs": [],
   "source": [
    "data_series1 = pd.Series([10,20,30,40,50,60,70])\n",
    "data_series2 = pd.Series([100,200,300,400,500,600,700])"
   ]
  },
  {
   "cell_type": "code",
   "execution_count": null,
   "id": "5bc6ac26",
   "metadata": {},
   "outputs": [],
   "source": [
    "# Concatinate two rows \n",
    "pd.concat([data_series1,data_series2], axis = 1)"
   ]
  }
 ],
 "metadata": {
  "kernelspec": {
   "display_name": "Python 3 (ipykernel)",
   "language": "python",
   "name": "python3"
  },
  "language_info": {
   "codemirror_mode": {
    "name": "ipython",
    "version": 3
   },
   "file_extension": ".py",
   "mimetype": "text/x-python",
   "name": "python",
   "nbconvert_exporter": "python",
   "pygments_lexer": "ipython3",
   "version": "3.9.12"
  }
 },
 "nbformat": 4,
 "nbformat_minor": 5
}
